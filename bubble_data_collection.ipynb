{
  "nbformat": 4,
  "nbformat_minor": 0,
  "metadata": {
    "colab": {
      "name": "bubble data collection.ipynb",
      "version": "0.3.2",
      "provenance": [],
      "collapsed_sections": [],
      "include_colab_link": true
    },
    "kernelspec": {
      "name": "python3",
      "display_name": "Python 3"
    }
  },
  "cells": [
    {
      "cell_type": "markdown",
      "metadata": {
        "id": "view-in-github",
        "colab_type": "text"
      },
      "source": [
        "[View in Colaboratory](https://colab.research.google.com/github/stgstg27/Background-Subtraction/blob/master/bubble_data_collection.ipynb)"
      ]
    },
    {
      "metadata": {
        "id": "B7Q7DY6ER_4U",
        "colab_type": "text"
      },
      "cell_type": "markdown",
      "source": [
        "My aim is to create a file that automatically runs through the folder and break the videos and run the code to store the data in the folder"
      ]
    },
    {
      "metadata": {
        "id": "j7sfF56cSSIZ",
        "colab_type": "code",
        "colab": {
          "base_uri": "https://localhost:8080/",
          "height": 34
        },
        "outputId": "06c9e1ae-2ce4-485d-b37c-a5011bc5acda"
      },
      "cell_type": "code",
      "source": [
        "print (\"Let's do it\")"
      ],
      "execution_count": 0,
      "outputs": [
        {
          "output_type": "stream",
          "text": [
            "Let's do it\n"
          ],
          "name": "stdout"
        }
      ]
    },
    {
      "metadata": {
        "id": "irf6KXBiSZT-",
        "colab_type": "text"
      },
      "cell_type": "markdown",
      "source": [
        "Since I am working on a Windows system I guess Batch file is the answer to my question so let's research about this batch file.\n",
        "\n",
        "After creating basic batch file I think I can start working on the code for the batch file that will automatically download my data. Below is my sample codes for batch file \n",
        "\n"
      ]
    },
    {
      "metadata": {
        "id": "DB0PciRVSmRi",
        "colab_type": "code",
        "colab": {}
      },
      "cell_type": "code",
      "source": [
        "#This is the code for running simple python file and storing their informataion in the text file\n",
        "ECHO OFF\n",
        ":: Echo off makes sure the command that you are executing is not seen\n",
        ":: >> and > stores the output of the file into the output file\n",
        "ECHO Hello World  >> results.txt\n",
        "python temp.py >> results.txt\n",
        "::PAUSE is like a waitKey over here, if this command is not there the batch file automatically close itself once it is completed in a second\n",
        "PAUSE"
      ],
      "execution_count": 0,
      "outputs": []
    },
    {
      "metadata": {
        "id": "oP_9JAwwAadS",
        "colab_type": "text"
      },
      "cell_type": "markdown",
      "source": [
        "Since we can exploit directory using os library in python, I am not using cd command in my batch file.\n",
        "\n",
        "After exhaustive search I am not able to access folders in the mobile phone with a python code but I might be able to do that using a software which I am not so sure about.\n",
        "\n",
        "So for now I am planning to copy the videos in my laptop directory and and then run the batch file\n",
        "\n"
      ]
    },
    {
      "metadata": {
        "id": "x9DiSFwNA79g",
        "colab_type": "code",
        "colab": {}
      },
      "cell_type": "code",
      "source": [
        "import os\n",
        "import numpy as np\n",
        "import sys\n",
        "import cv2"
      ],
      "execution_count": 0,
      "outputs": []
    },
    {
      "metadata": {
        "id": "Fly6t7qwJhJS",
        "colab_type": "text"
      },
      "cell_type": "markdown",
      "source": [
        "The below code is for extracting the images frame from the video, this will save me a lot of time and effort"
      ]
    },
    {
      "metadata": {
        "id": "ObwkCB5eA-_c",
        "colab_type": "code",
        "colab": {}
      },
      "cell_type": "code",
      "source": [
        "def imageCapture(file,output):\n",
        "\t#cv2 code goes here\n",
        "\tvideo = cv2.VideoCapture(file)\n",
        "\tfolder = 'positive'\n",
        "\tcurrpath = os.getcwd()\n",
        "\tif output is \"0\":\n",
        "\t\tfolder = 'negative'\n",
        "\n",
        "\tprint (\"Storing into Folder :\" , folder)\n",
        "\tif not os.path.exists(folder):\n",
        "\t\tos.mkdir(folder)\n",
        "\n",
        "\tos.chdir(folder)\n",
        "\tframeNo = 0\n",
        "\twhile(True):\n",
        "\t\tok , frame = video.read()\n",
        "\t\tif not ok:\n",
        "\t\t\tbreak\n",
        "\n",
        "\t\ttimer = cv2.getTickCount()\n",
        "\t\tcv2.imwrite(file + '_' + str(frameNo) + '.png' , frame)\n",
        "\t\tfps = cv2.getTickFrequency() / (cv2.getTickCount() - timer);\n",
        "\t\tprint ('Frame Per Second : ',fps)\n",
        "\t\tframeNo += 1\n",
        "\t\tcv2.waitKey(1)\n",
        "\n",
        "\tprint (\"Extracted %d of images\" %frameNo)\n",
        "\tos.chdir(currpath)"
      ],
      "execution_count": 0,
      "outputs": []
    },
    {
      "metadata": {
        "id": "Y7laUVaIBF03",
        "colab_type": "code",
        "colab": {}
      },
      "cell_type": "code",
      "source": [
        "fileList =  os.listdir(os.getcwd())\n",
        "\n",
        "aoi = input('No of Videos to consider\\n')\n",
        "output = input('0 for negative and 1 for positive\\n')\n",
        "\n",
        "fileList.sort()\n",
        "\n",
        "fileList_len = len(fileList)\n",
        "\n",
        "print (\"Output : \",output)\n",
        "imageCapture('1.mp4',output)"
      ],
      "execution_count": 0,
      "outputs": []
    }
  ]
}