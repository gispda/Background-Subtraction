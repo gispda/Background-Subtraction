{
  "nbformat": 4,
  "nbformat_minor": 0,
  "metadata": {
    "colab": {
      "name": "background_Subtraction.ipynb",
      "version": "0.3.2",
      "provenance": [],
      "include_colab_link": true
    },
    "kernelspec": {
      "name": "python3",
      "display_name": "Python 3"
    }
  },
  "cells": [
    {
      "cell_type": "markdown",
      "metadata": {
        "id": "view-in-github",
        "colab_type": "text"
      },
      "source": [
        "[View in Colaboratory](https://colab.research.google.com/github/stgstg27/Background-Subtraction/blob/master/background_Subtraction.ipynb)"
      ]
    },
    {
      "metadata": {
        "id": "BB5LyG0AXp4L",
        "colab_type": "code",
        "colab": {}
      },
      "cell_type": "code",
      "source": [
        "###################Background Subtraction###############################################\n",
        "#####Thesis: Application of Machine Learning in Biomdeical diagnosis and therapies######\n",
        "###################Author: Saurabh Khandelwal###########################################\n",
        "###################Shafiee Lab,Harvard Medical School ##################################\n"
      ],
      "execution_count": 0,
      "outputs": []
    },
    {
      "metadata": {
        "id": "zU_E0DX2XuPR",
        "colab_type": "text"
      },
      "cell_type": "markdown",
      "source": [
        "The following file discusses the different algorithms on background subtraction and their differnce. The sources will be revealted later on. Let's start with background subtraction. \n",
        "\n",
        "What is it?\n",
        "\n",
        "Background Subtraction\n",
        "\n",
        "The idea behind background subtraction (also commonly referred to as foreground detection) is to separate the image's foreground from the background. If we have a good idea of what the foreground is, we can extract these segments from the image and perform any post-processing that we choose.(ref .https://blog.kickview.com/background-subtraction/)\n",
        "\n",
        "We construct a histogram of the RGB values of every pixel. Once we find the histogram we  fit a unimodal  normal distribution curve on it.\n",
        "\n",
        "We assume that if a certain pixel is a background then it's frequency distribution should be very similar to the unimodal  normal distribution curve. That is one pixel value is highly pre dominat over any other pixel values.\n",
        "\n",
        "\n",
        " If we keep track of the mean and variance of the distribution we can separte the foreground from the background using the threshold of the Mahalanobis Distance (Distance is measured in terms of standard deviation).\n",
        " \n",
        " ![alt text](https://blog.kickview.com/content/images/2017/08/bg_img_1.jpg)\n",
        "\n",
        "\n"
      ]
    },
    {
      "metadata": {
        "id": "viTQ-SRBYO5a",
        "colab_type": "code",
        "colab": {}
      },
      "cell_type": "code",
      "source": [
        "import cv2\n",
        "import numpy as np"
      ],
      "execution_count": 0,
      "outputs": []
    },
    {
      "metadata": {
        "id": "W_L-AGBUPtsg",
        "colab_type": "text"
      },
      "cell_type": "markdown",
      "source": [
        "*Opencv Library has implemented few of the background subtraction algorithm based on Gaussina Mixture Model and Bayesian Segmentation.*\n",
        "\n",
        "\n",
        "An usual applicable assumption is that the images of the scene without the intruding objects exhibit some regular behavior that can be well described by a statistical model. If we have a statistical model of the scene, an intruding object can be detected by spotting the parts of the image that don't fit the model.\n",
        "\n",
        "However pixel values often have complex distribution and more elaborate models unlike simple density function are needed. Gaussian Mixture Model(GMM) has been proposed for this purpose.(ref. *Zoran Zivkovic| Improved Adaptive Gaussian Mixture Model for Background Subtraction*.).\n",
        "\n",
        "\n",
        "\n",
        "**Background Subtractor MOG**\n",
        "\n",
        "It is a Gaussian Mixture-based Background/Foreground Segmentation Algorithm. It was introduced in the paper \"An improved adaptive background mixture model for real-time tracking with shadow detection\" by P. KadewTraKuPong and R. Bowden in 2001. It uses a method to model each background pixel by a mixture of K Gaussian distributions (K = 3 to 5). The weights of the mixture represent the time proportions that those colours stay in the scene. The probable background colours are the ones which stay longer and more static.\n",
        "\n",
        "While coding, we need to create a background object using the function, cv2.createBackgroundSubtractorMOG(). It has some optional parameters like length of history, number of gaussian mixtures, threshold etc. It is all set to some default values. Then inside the video loop, use backgroundsubtractor.apply() method to get the foreground mask.\n",
        "\n",
        "**Adaptive Gaussian Background Subtractor MOG**\n",
        "\n",
        "It is also a Gaussian Mixture-based Background/Foreground Segmentation Algorithm. It is based on two papers by Z.Zivkovic, \"Improved adaptive Gausian mixture model for background subtraction\" in 2004 and \"Efficient Adaptive Density Estimation per Image Pixel for the Task of Background Subtraction\" in 2006. One important feature of this algorithm is that it selects the appropriate number of gaussian distribution for each pixel. (Remember, in last case, we took a K gaussian distributions throughout the algorithm). It provides better adaptibility to varying scenes due illumination changes etc.\n",
        "\n",
        "As in previous case, we have to create a background subtractor object. Here, you have an option of selecting whether shadow to be detected or not. If detectShadows = True (which is so by default), it detects and marks shadows, but decreases the speed. Shadows will be marked in gray color.\n",
        "\n",
        "\n",
        "\n",
        "\n",
        "**Background Subtraction using Stastical Model and Bayesian Segmentation**\n",
        "\n",
        "This algorithm combines statistical background image estimation and per-pixel Bayesian segmentation. It was introduced by Andrew B. Godbehere, Akihiro Matsukawa, Ken Goldberg in their paper \"Visual Tracking of Human Visitors under Variable-Lighting Conditions for a Responsive Audio Art Installation\" in 2012. As per the paper, the system ran a successful interactive audio art installation called “Are We There Yet?” from March 31 - July 31 2011 at the Contemporary Jewish Museum in San Francisco, California.\n",
        "\n",
        "It uses first few (120 by default) frames for background modelling. It employs probabilistic foreground segmentation algorithm that identifies possible foreground objects using Bayesian inference. The estimates are adaptive; newer observations are more heavily weighted than old observations to accommodate variable illumination. Several morphological filtering operations like closing and opening are done to remove unwanted noise. You will get a black window during first few frames.\n",
        "\n",
        "It would be better to apply morphological opening to the result to remove the noises.\n",
        "\n",
        "(ref. https://docs.opencv.org/3.3.0/db/d5c/tutorial_py_bg_subtraction.html)\n",
        "\n",
        "\n",
        "\n",
        "\n",
        "\n"
      ]
    },
    {
      "metadata": {
        "id": "By2_6LLemIKr",
        "colab_type": "code",
        "colab": {}
      },
      "cell_type": "code",
      "source": [
        "########################Background Subtraction##########################################\n",
        "#####Thesis : Application of Machine Learning in Biomdeical diagnosis and therapies#####\n",
        "################### Author : Saurabh Khandelwal\t########################################\n",
        "###################Shafiee Lab,Harvard Medical School ##################################\n",
        "\n",
        "\n",
        "import cv2\n",
        "import numpy as np\n",
        "\n",
        "print (cv2.__version__)\n",
        "cap = cv2.VideoCapture(0)\n",
        "fgbg = cv2.bgsegm.createBackgroundSubtractorMOG()\n",
        "fgbgAdaptiveGaussain = cv2.createBackgroundSubtractorMOG2()\n",
        "kernel = cv2.getStructuringElement(cv2.MORPH_ELLIPSE,(3,3))\n",
        "fgbgBayesianSegmentation = cv2.bgsegm.createBackgroundSubtractorGMG()\n",
        "\n",
        "while(1):\n",
        "  ret, frame = cap.read()\n",
        "  fgmask = fgbg.apply(frame)\n",
        "  fgbgAdaptiveGaussainmask = fgbgAdaptiveGaussain.apply(frame)\n",
        "  fgbgBayesianSegmentationmask = fgbgBayesianSegmentation.apply(frame)\n",
        "  fgbgBayesianSegmentationmask = cv2.morphologyEx(fgbgBayesianSegmentationmask,cv2.MORPH_OPEN,kernel)\n",
        "  \n",
        "  cv2.namedWindow('Background Subtraction Bayesian Segmentation',0)\n",
        "  cv2.namedWindow('Background Subtraction',0)\n",
        "  cv2.namedWindow('Background Subtraction Adaptive Gaussian',0)\n",
        "  cv2.namedWindow('Original',0)\n",
        "\n",
        "  cv2.resizeWindow('Original', 300,300)\n",
        "  cv2.imshow('Background Subtraction Bayesian Segmentation',fgbgBayesianSegmentationmask)\n",
        "  cv2.imshow('Background Subtraction',fgmask)\n",
        "  cv2.imshow('Background Subtraction Adaptive Gaussian',fgbgAdaptiveGaussainmask)\n",
        "  cv2.imshow('Original',frame)\n",
        "  \n",
        "  k = cv2.waitKey(1) & 0xff\n",
        "  \n",
        "  if k==ord('q'):\n",
        "    break\n",
        "\n",
        "cap.release()\n",
        "cv2.destroyAllWindows()\n",
        "print ('Program Closed')\n",
        "\n",
        "\n"
      ],
      "execution_count": 0,
      "outputs": []
    },
    {
      "metadata": {
        "id": "NuEQ0XNiRVaq",
        "colab_type": "text"
      },
      "cell_type": "markdown",
      "source": [
        "As you can see in the [video](https://drive.google.com/open?id=1vL5SpxeqFaBUuLEpeFHl4Eske-F-L13a)\n",
        "\n",
        "First we observed the adpater is seen as the new object and classified as background, but after some time when it is not moving it is assumed to be a static object and classified as foreground. Then after some time it is once again moved and it's again classified as intuding foreground. Video can be seen on pressing the link.\n",
        "\n",
        "\n",
        "\n",
        "\n"
      ]
    },
    {
      "metadata": {
        "id": "PtJM1_EKQSBG",
        "colab_type": "text"
      },
      "cell_type": "markdown",
      "source": [
        ""
      ]
    }
  ]
}